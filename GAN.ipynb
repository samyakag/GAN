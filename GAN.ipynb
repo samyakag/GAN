{
 "cells": [
  {
   "cell_type": "code",
   "execution_count": 7,
   "metadata": {},
   "outputs": [],
   "source": [
    "from __future__ import print_function\n",
    "#%matplotlib inline\n",
    "import argparse\n",
    "import os\n",
    "import random\n",
    "import torch\n",
    "import torch.nn as nn\n",
    "import torch.nn.parallel\n",
    "import torch.backends.cudnn as cudnn\n",
    "import torch.optim as optim\n",
    "import torch.utils.data\n",
    "import torchvision.datasets as dset\n",
    "import torchvision.transforms as transforms\n",
    "import torchvision.utils as vutils\n",
    "import torchvision\n",
    "import numpy as np\n",
    "import matplotlib.pyplot as plt\n",
    "import matplotlib.animation as animation\n",
    "from IPython.display import HTML"
   ]
  },
  {
   "cell_type": "code",
   "execution_count": 8,
   "metadata": {},
   "outputs": [
    {
     "name": "stdout",
     "output_type": "stream",
     "text": [
      "Random Seed:  999\n"
     ]
    },
    {
     "data": {
      "text/plain": [
       "<torch._C.Generator at 0x7fde86ed7bd0>"
      ]
     },
     "execution_count": 8,
     "metadata": {},
     "output_type": "execute_result"
    }
   ],
   "source": [
    "# Set random seem for reproducibility\n",
    "manualSeed = 999\n",
    "#manualSeed = random.randint(1, 10000) # use if you want new results\n",
    "print(\"Random Seed: \", manualSeed)\n",
    "random.seed(manualSeed)\n",
    "torch.manual_seed(manualSeed)"
   ]
  },
  {
   "cell_type": "code",
   "execution_count": 9,
   "metadata": {},
   "outputs": [],
   "source": [
    "# Batch size during training\n",
    "batch_size = 128\n",
    "\n",
    "# Number of training epochs\n",
    "num_epochs = 50\n",
    "\n",
    "# Learning rate for optimizers\n",
    "lr = 0.0002\n",
    "\n",
    "# Dimensions for generator\n",
    "gen_input = 100\n",
    "gen_output = 784\n",
    "\n",
    "# Dimensions for Discriminator\n",
    "dis_input = 784\n",
    "dis_output = 1"
   ]
  },
  {
   "cell_type": "code",
   "execution_count": 10,
   "metadata": {},
   "outputs": [],
   "source": [
    "def mnist_data():\n",
    "    compose = transforms.Compose(\n",
    "        [transforms.ToTensor(),\n",
    "         transforms.Normalize((.5, .5, .5), (.5, .5, .5))\n",
    "        ])\n",
    "    out_dir = './dataset'\n",
    "    return dset.MNIST(root=out_dir, train=True, transform=compose, download=True)\n",
    "# Load data\n",
    "data = mnist_data()\n",
    "# Create loader with data, so that we can iterate over it\n",
    "data_loader = torch.utils.data.DataLoader(data, batch_size=batch_size, shuffle=True)\n",
    "# Num batches\n",
    "num_batches = len(data_loader)"
   ]
  },
  {
   "cell_type": "code",
   "execution_count": 11,
   "metadata": {},
   "outputs": [],
   "source": [
    "def imshow(img):\n",
    "    img = img / 2 + 0.5\n",
    "    npimg = img.numpy()\n",
    "    plt.axis(\"off\")\n",
    "    plt.imshow(np.transpose(npimg, (1, 2, 0)))\n",
    "    plt.show()"
   ]
  },
  {
   "cell_type": "code",
   "execution_count": 12,
   "metadata": {},
   "outputs": [
    {
     "data": {
      "image/png": "[encoded data removed]",
      "text/plain": [
       "<Figure size 432x288 with 1 Axes>"
      ]
     },
     "metadata": {
      "needs_background": "light"
     },
     "output_type": "display_data"
    }
   ],
   "source": [
    "dataiter = iter(data_loader)\n",
    "images = dataiter.next()\n",
    "imshow(vutils.make_grid(images[0]))"
   ]
  },
  {
   "cell_type": "code",
   "execution_count": 13,
   "metadata": {},
   "outputs": [],
   "source": [
    "class Discriminator(nn.Module):\n",
    "    \n",
    "    def __init__(self, n_features, n_out):\n",
    "        super(Discriminator, self).__init__()\n",
    "        self.n_features = n_features\n",
    "        self.n_out = n_out\n",
    "        \n",
    "        self.layer_1 = nn.Sequential(nn.Linear(self.n_features, 1024),\n",
    "                                     nn.LeakyReLU(0.2),\n",
    "                                     nn.Dropout(0.3))\n",
    "        self.layer_2 = nn.Sequential(nn.Linear(1024, 512),\n",
    "                                     nn.LeakyReLU(0.2),\n",
    "                                     nn.Dropout(0.3))\n",
    "        self.layer_3 = nn.Sequential(nn.Linear(512, 256),\n",
    "                                     nn.LeakyReLU(0.2),\n",
    "                                     nn.Dropout(0.3))\n",
    "        self.out = nn.Sequential(nn.Linear(256, self.n_out),\n",
    "                                     nn.Sigmoid())\n",
    "        \n",
    "    def forward(self, x):\n",
    "        x = self.layer_1(x)\n",
    "        x = self.layer_2(x)\n",
    "        x = self.layer_3(x)\n",
    "        x = self.out(x)\n",
    "        return x\n",
    "        "
   ]
  },
  {
   "cell_type": "code",
   "execution_count": 14,
   "metadata": {},
   "outputs": [],
   "source": [
    "class Generator(nn.Module):\n",
    "    \n",
    "    def __init__(self, n_features, n_out):\n",
    "        super(Generator, self).__init__()\n",
    "        self.n_features = n_features\n",
    "        self.n_out = n_out\n",
    "        \n",
    "        self.layer_1 = nn.Sequential(nn.Linear(self.n_features, 256),\n",
    "                                     nn.LeakyReLU(0.2),\n",
    "                                     nn.Dropout(0.3))\n",
    "        self.layer_2 = nn.Sequential(nn.Linear(256, 512),\n",
    "                                     nn.LeakyReLU(0.2),\n",
    "                                     nn.Dropout(0.3))\n",
    "        self.layer_3 = nn.Sequential(nn.Linear(512, 1024),\n",
    "                                     nn.LeakyReLU(0.2),\n",
    "                                     nn.Dropout(0.3))\n",
    "        self.out = nn.Sequential(nn.Linear(1024, self.n_out),\n",
    "                                     nn.Tanh())\n",
    "        \n",
    "    def forward(self, x):\n",
    "        x = self.layer_1(x)\n",
    "        x = self.layer_2(x)\n",
    "        x = self.layer_3(x)\n",
    "        x = self.out(x)\n",
    "        return x\n",
    "        "
   ]
  },
  {
   "cell_type": "code",
   "execution_count": 15,
   "metadata": {},
   "outputs": [],
   "source": [
    "discriminator = Discriminator(dis_input, dis_output)\n",
    "generator = Generator(gen_input, gen_output)"
   ]
  },
  {
   "cell_type": "code",
   "execution_count": 16,
   "metadata": {},
   "outputs": [],
   "source": [
    "# Define optimizer for Generator and Discriminator\n",
    "d_optimizer = optim.Adam(discriminator.parameters(), lr=0.0002)\n",
    "g_optimizer = optim.Adam(generator.parameters(), lr=0.0002)\n",
    "\n",
    "# Define Loss function for Generator and Disriminator\n",
    "loss = nn.BCELoss()\n",
    "test_noise = torch.randn(10, 100)"
   ]
  },
  {
   "cell_type": "code",
   "execution_count": 17,
   "metadata": {},
   "outputs": [],
   "source": [
    "def train_discriminator(opt, real_data, fake_data):\n",
    "    opt.zero_grad()\n",
    "    \n",
    "    # train real\n",
    "    pred_real = discriminator(real_data)\n",
    "    \n",
    "    error_real = loss(pred_real, torch.ones(real_data.size(0), 1))\n",
    "    error_real.backward()\n",
    "    \n",
    "    # train fake\n",
    "    pred_fake = discriminator(fake_data)\n",
    "    error_fake = loss(pred_fake, torch.zeros(fake_data.size(0), 1))\n",
    "    error_fake.backward()\n",
    "    \n",
    "    opt.step()\n",
    "    return error_real + error_fake, pred_real, error_fake"
   ]
  },
  {
   "cell_type": "code",
   "execution_count": 18,
   "metadata": {},
   "outputs": [],
   "source": [
    "def train_generator(opt, fake_data):\n",
    "    opt.zero_grad()\n",
    "    \n",
    "    pred = discriminator(fake_data)\n",
    "    error = loss(pred, torch.ones(fake_data.size(0), 1))\n",
    "    error.backward()\n",
    "    \n",
    "    opt.step()\n",
    "    return error"
   ]
  },
  {
   "cell_type": "code",
   "execution_count": 28,
   "metadata": {},
   "outputs": [],
   "source": [
    "for epoch in range(num_epochs):\n",
    "    for n_batch, (real_batch,_) in enumerate(data_loader):\n",
    "            N = real_batch.size(0)\n",
    "            # 1. Train Discriminator\n",
    "            real_data = real_batch.view(N, 1 * 28 * 28)\n",
    "            # Generate fake data and detach \n",
    "            # So gradients are not calculated for generator\n",
    "            fake_data = generator(torch.randn(N,100)).detach()\n",
    "            # Train D\n",
    "            d_error, d_pred_real, d_pred_fake = \\\n",
    "                  train_discriminator(d_optimizer, real_data, fake_data)\n",
    "\n",
    "            # 2. Train Generator\n",
    "            # Generate fake data\n",
    "            fake_data = generator(torch.randn(N,100))\n",
    "            # Train G\n",
    "            g_error = train_generator(g_optimizer, fake_data)\n",
    "            if (n_batch) % 100 == 0:\n",
    "                test_images = generator(test_noise).view(test_noise.size(0), 1, 28, 28)\n",
    "                test_images = test_images.data"
   ]
  },
  {
   "cell_type": "code",
   "execution_count": 19,
   "metadata": {},
   "outputs": [],
   "source": [
    "def view_samples(epoch, samples):\n",
    "    fig, axes = plt.subplots(figsize=(7,7), nrows=4, ncols=4, sharey=True, sharex=True)\n",
    "    for ax, img in zip(axes.flatten(), samples[epoch]):\n",
    "        img = img.detach()\n",
    "        ax.xaxis.set_visible(False)\n",
    "        ax.yaxis.set_visible(False)\n",
    "        im = ax.imshow(img.reshape((28,28)), cmap='Greys_r')"
   ]
  },
  {
   "cell_type": "code",
   "execution_count": 52,
   "metadata": {},
   "outputs": [],
   "source": [
    "# Save the generator model's state\n",
    "torch.save({'state_dict': generator.state_dict()}, 'checkpoint.pth.tar')"
   ]
  },
  {
   "cell_type": "code",
   "execution_count": 23,
   "metadata": {},
   "outputs": [
    {
     "data": {
      "text/plain": [
       "IncompatibleKeys(missing_keys=[], unexpected_keys=[])"
      ]
     },
     "execution_count": 23,
     "metadata": {},
     "output_type": "execute_result"
    }
   ],
   "source": [
    "# Load the saved generator\n",
    "model = Generator(100, 784)\n",
    "checkpoint = torch.load('checkpoint.pth.tar')\n",
    "model.load_state_dict(checkpoint['state_dict'])"
   ]
  },
  {
   "cell_type": "code",
   "execution_count": 25,
   "metadata": {},
   "outputs": [
    {
     "data": {
      "image/png": "[encoded data removed]",
      "text/plain": [
       "<Figure size 504x504 with 16 Axes>"
      ]
     },
     "metadata": {
      "needs_background": "light"
     },
     "output_type": "display_data"
    }
   ],
   "source": [
    "# Test the generator\n",
    "model.eval()\n",
    "fake_data = model(torch.randn(16,100))\n",
    "fake_data = fake_data.view(fake_data.size(0), 1, 28, 28)\n",
    "view_samples(0, [fake_data])"
   ]
  },
  {
   "cell_type": "code",
   "execution_count": null,
   "metadata": {},
   "outputs": [],
   "source": []
  }
 ],
 "metadata": {
  "kernelspec": {
   "display_name": "Python 3",
   "language": "python",
   "name": "python3"
  },
  "language_info": {
   "codemirror_mode": {
    "name": "ipython",
    "version": 3
   },
   "file_extension": ".py",
   "mimetype": "text/x-python",
   "name": "python",
   "nbconvert_exporter": "python",
   "pygments_lexer": "ipython3",
   "version": "3.6.8"
  }
 },
 "nbformat": 4,
 "nbformat_minor": 2
}
